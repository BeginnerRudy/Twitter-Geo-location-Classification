{
 "cells": [
  {
   "cell_type": "code",
   "execution_count": 1,
   "metadata": {
    "ExecuteTime": {
     "end_time": "2019-05-25T17:06:49.515800Z",
     "start_time": "2019-05-25T17:06:48.841411Z"
    },
    "colab": {},
    "colab_type": "code",
    "id": "CEiIaexciJ7W"
   },
   "outputs": [],
   "source": [
    "from sklearn.naive_bayes import MultinomialNB\n",
    "from sklearn.feature_extraction import DictVectorizer\n",
    "from sklearn.feature_selection import SelectKBest, chi2"
   ]
  },
  {
   "cell_type": "code",
   "execution_count": 2,
   "metadata": {
    "ExecuteTime": {
     "end_time": "2019-05-25T17:06:50.912954Z",
     "start_time": "2019-05-25T17:06:50.291538Z"
    },
    "colab": {},
    "colab_type": "code",
    "id": "RZyFQ_ZHiJ7c"
   },
   "outputs": [],
   "source": [
    "import csv\n",
    "import re\n",
    "import numpy as np\n",
    "from sklearn.feature_extraction.text import CountVectorizer\n",
    "from sklearn.metrics.pairwise import cosine_similarity\n",
    "from sklearn import svm\n",
    "from sklearn.naive_bayes import GaussianNB, MultinomialNB, BernoulliNB\n",
    "from sklearn.model_selection import cross_val_score\n",
    "from sklearn.model_selection import train_test_split\n",
    "from sklearn.metrics import accuracy_score\n",
    "from sklearn.dummy import DummyClassifier\n",
    "from sklearn.linear_model import LogisticRegression\n",
    "from sklearn.neighbors import KNeighborsClassifier\n",
    "import time\n",
    "from gensim.models import Word2Vec\n",
    "from nltk.corpus import stopwords  \n",
    "import nltk\n",
    "from nltk.stem.lancaster import LancasterStemmer\n",
    "import sys\n",
    "import unicodedata"
   ]
  },
  {
   "cell_type": "code",
   "execution_count": 3,
   "metadata": {
    "ExecuteTime": {
     "end_time": "2019-05-25T17:06:50.923861Z",
     "start_time": "2019-05-25T17:06:50.916865Z"
    },
    "colab": {},
    "colab_type": "code",
    "id": "Vy3JqfJriJ7j"
   },
   "outputs": [],
   "source": [
    "train_raw_filepath =  \"./2019S1-proj2-data_dos/train-raw.tsv\"\n",
    "dev_raw_filepath =  \"./2019S1-proj2-data_dos/dev-raw.tsv\"\n",
    "test_raw_filepath =  \"./2019S1-proj2-data_dos/test-raw.tsv\""
   ]
  },
  {
   "cell_type": "code",
   "execution_count": 4,
   "metadata": {
    "ExecuteTime": {
     "end_time": "2019-05-25T17:06:50.994661Z",
     "start_time": "2019-05-25T17:06:50.989837Z"
    },
    "colab": {},
    "colab_type": "code",
    "id": "lqtjES_jiJ7l"
   },
   "outputs": [],
   "source": [
    "# read tsv file into a 2D array\n",
    "def read_tsv(filepath):\n",
    "    label, text = [], []\n",
    "    with open(filepath) as raw:\n",
    "        reader = csv.reader(raw, delimiter=\"\\t\", quoting = csv.QUOTE_NONE)\n",
    "        for row in reader:\n",
    "            label.append(row[1])\n",
    "            text.append(row[-1])\n",
    "    return text, label"
   ]
  },
  {
   "cell_type": "markdown",
   "metadata": {
    "colab_type": "text",
    "id": "JdCYHvCgiJ7n"
   },
   "source": [
    "# Text Pre-filtering"
   ]
  },
  {
   "cell_type": "code",
   "execution_count": 5,
   "metadata": {
    "ExecuteTime": {
     "end_time": "2019-05-25T17:06:52.442827Z",
     "start_time": "2019-05-25T17:06:51.693805Z"
    },
    "colab": {},
    "colab_type": "code",
    "id": "Dv3q8Z07iJ7o"
   },
   "outputs": [],
   "source": [
    "def remove_URL(texts):\n",
    "    for i in list(range(len(texts))):\n",
    "        texts[i] = re.sub(r\"http\\S+\", \"\", texts[i])\n",
    "        \n",
    "def remove_metion(texts):\n",
    "    for i in list(range(len(texts))):\n",
    "        texts[i] = re.sub(r\"@\\S+\", \"\", texts[i])\n",
    "        texts[i] = re.sub(r\"@\", \"\", texts[i])\n",
    "        \n",
    "def remove_hash(texts):\n",
    "    for i in list(range(len(texts))):\n",
    "        texts[i] = re.sub(r\"#\\S+\", \"\", texts[i])\n",
    "        texts[i] = re.sub(r\"#\", \"\", texts[i])\n",
    "def remove_unicode(texts):\n",
    "    for i in list(range(len(texts))):\n",
    "        texts[i] = re.sub(r\"\\\\u[a-zA-Z0-9][a-zA-Z0-9][a-zA-Z0-9][a-zA-Z0-9]\", \"\", texts[i])\n",
    "\n",
    "# a table structure to hold the different punctuation used\n",
    "tbl = dict.fromkeys(i for i in range(sys.maxunicode)\n",
    "                    if unicodedata.category(chr(i)).startswith('P'))\n",
    "# method to remove punctuations from sentences.\n",
    "def remove_punctuation(text):\n",
    "    return text.translate(tbl)"
   ]
  },
  {
   "cell_type": "markdown",
   "metadata": {
    "colab_type": "text",
    "id": "tU5pZVdKiJ7r"
   },
   "source": [
    "# Chi-square feature selection"
   ]
  },
  {
   "cell_type": "code",
   "execution_count": 6,
   "metadata": {
    "ExecuteTime": {
     "end_time": "2019-05-25T17:06:52.452887Z",
     "start_time": "2019-05-25T17:06:52.445977Z"
    },
    "colab": {},
    "colab_type": "code",
    "id": "0XAq8RUBiJ7s"
   },
   "outputs": [],
   "source": [
    "# read tsv file into a 2D array\n",
    "def read_tsv_2(filepath, city_name):\n",
    "    label, text = [], []\n",
    "    with open(filepath) as raw:\n",
    "        reader = csv.reader(raw, delimiter=\"\\t\", quoting = csv.QUOTE_NONE)\n",
    "        for row in reader:\n",
    "            label.append(row[1] == city_name)\n",
    "            text.append(row[-1])\n",
    "    return text, label"
   ]
  },
  {
   "cell_type": "code",
   "execution_count": 7,
   "metadata": {
    "ExecuteTime": {
     "end_time": "2019-05-25T17:06:52.866669Z",
     "start_time": "2019-05-25T17:06:52.856711Z"
    },
    "colab": {},
    "colab_type": "code",
    "id": "Eix60tYTiJ7u"
   },
   "outputs": [],
   "source": [
    "def generate_top_k_words_for_each_city(num, city_name):\n",
    "    X_raw, y_train = read_tsv_2(train_raw_filepath, city_name)\n",
    "    remove_URL(X_raw)\n",
    "    remove_hash(X_raw)\n",
    "    remove_metion(X_raw)\n",
    "    remove_unicode(X_raw)\n",
    "    X_raw = [ remove_punctuation(text) for text in X_raw]\n",
    "    \n",
    "    # count word frequency\n",
    "    vectoriser = CountVectorizer(stop_words=\"english\")\n",
    "    X_train = vectoriser.fit_transform(X_raw)\n",
    "    \n",
    "    # select feature based on chi-sq static\n",
    "    x2 = SelectKBest(chi2, k = num)\n",
    "    x2.fit_transform(X_train, y_train)\n",
    "    \n",
    "    # write into file\n",
    "#     filepath = city_name + \"_top_k_words.csv\"\n",
    "    \n",
    "    top_k_words = []\n",
    "    for feat_num in x2.get_support(indices=True):\n",
    "       top_k_words.append(vectoriser.get_feature_names()[feat_num])\n",
    "    \n",
    "#     with open(filepath, 'w',  newline='') as writeFile:\n",
    "#         writer = csv.writer(writeFile)\n",
    "#         writer.writerows([top_k_words])\n",
    "#         writeFile.close()\n",
    "    return top_k_words"
   ]
  },
  {
   "cell_type": "code",
   "execution_count": 8,
   "metadata": {
    "ExecuteTime": {
     "end_time": "2019-05-25T17:06:53.683650Z",
     "start_time": "2019-05-25T17:06:53.679598Z"
    },
    "colab": {},
    "colab_type": "code",
    "id": "zeK_gKhGiJ7z"
   },
   "outputs": [],
   "source": [
    "cities = [\"Melbourne\", \"Sydney\", \"Perth\", \"Brisbane\"]\n",
    "top_k_for_each_city = []"
   ]
  },
  {
   "cell_type": "code",
   "execution_count": 0,
   "metadata": {
    "ExecuteTime": {
     "start_time": "2019-05-25T15:07:17.757Z"
    },
    "colab": {},
    "colab_type": "code",
    "id": "sKw8gFnOiJ75"
   },
   "outputs": [],
   "source": [
    "for city in cities:\n",
    "    top_k_for_each_city.append(generate_top_k_words_for_each_city(10000, city))"
   ]
  },
  {
   "cell_type": "code",
   "execution_count": 0,
   "metadata": {
    "colab": {},
    "colab_type": "code",
    "id": "HPSd342UiJ78"
   },
   "outputs": [],
   "source": [
    "# set difference \n",
    "top_k_for_each_city = list(set().union(top_k_for_each_city[0], top_k_for_each_city[1], top_k_for_each_city[2], top_k_for_each_city[3]))"
   ]
  },
  {
   "cell_type": "code",
   "execution_count": 0,
   "metadata": {
    "colab": {},
    "colab_type": "code",
    "id": "YCWjzr6otAvV"
   },
   "outputs": [],
   "source": [
    "len(top_k_for_each_city)"
   ]
  },
  {
   "cell_type": "markdown",
   "metadata": {
    "colab_type": "text",
    "id": "rjkTty6hmUba"
   },
   "source": [
    "# Training"
   ]
  },
  {
   "cell_type": "code",
   "execution_count": 166,
   "metadata": {
    "ExecuteTime": {
     "end_time": "2019-05-26T00:26:04.374807Z",
     "start_time": "2019-05-26T00:26:04.366830Z"
    }
   },
   "outputs": [],
   "source": [
    "def preprocess_3(filepath, filepath2):\n",
    "    X_raw, y_train = read_tsv(filepath)\n",
    "    remove_URL(X_raw)\n",
    "#     remove_hash(X_raw)\n",
    "#     remove_metion(X_raw)\n",
    "#     remove_unicode(X_raw)\n",
    "#     X_raw = [ remove_punctuation(text) for text in X_raw]\n",
    "    \n",
    "    X_raw2, y_train2 = read_tsv(filepath2)\n",
    "    remove_URL(X_raw2)\n",
    "#     remove_hash(X_raw)\n",
    "#     remove_metion(X_raw)\n",
    "#     remove_unicode(X_raw)\n",
    "    X_raw2 = [ remove_punctuation(text) for text in X_raw2]\n",
    "    X_raw.extend(X_raw2)\n",
    "    y_train.extend(y_train2)\n",
    "    \n",
    "    X_raw3, y_train3 = read_tsv(test_raw_filepath)\n",
    "    remove_URL(X_raw3)\n",
    "#     remove_hash(X_raw)\n",
    "#     remove_metion(X_raw)\n",
    "#     remove_unicode(X_raw)\n",
    "#     X_raw3 = [ remove_punctuation(text) for text in X_raw3]\n",
    "    \n",
    "    X_raw.extend(X_raw3)\n",
    "    return X_raw, y_train"
   ]
  },
  {
   "cell_type": "code",
   "execution_count": 264,
   "metadata": {
    "ExecuteTime": {
     "end_time": "2019-05-26T00:39:43.999860Z",
     "start_time": "2019-05-26T00:39:43.993479Z"
    }
   },
   "outputs": [],
   "source": [
    "def preprocess_2(filepath, filepath2):\n",
    "    X_raw, y_train = read_tsv(filepath)\n",
    "    remove_URL(X_raw)\n",
    "#     remove_hash(X_raw)\n",
    "#     remove_metion(X_raw)\n",
    "#     remove_unicode(X_raw)\n",
    "    X_raw = [ remove_punctuation(text) for text in X_raw]\n",
    "    \n",
    "    X_raw2, y_train2 = read_tsv(filepath2)\n",
    "    remove_URL(X_raw2)\n",
    "#     remove_hash(X_raw)\n",
    "#     remove_metion(X_raw)\n",
    "#     remove_unicode(X_raw)\n",
    "    X_raw2 = [ remove_punctuation(text) for text in X_raw2]\n",
    "    \n",
    "    \n",
    "    X_raw.extend(X_raw2)\n",
    "    y_train.extend(y_train2)\n",
    "    return X_raw, y_train"
   ]
  },
  {
   "cell_type": "code",
   "execution_count": 265,
   "metadata": {
    "ExecuteTime": {
     "end_time": "2019-05-26T00:39:44.896393Z",
     "start_time": "2019-05-26T00:39:44.892387Z"
    },
    "colab": {},
    "colab_type": "code",
    "id": "QAY_afpmmXcy"
   },
   "outputs": [],
   "source": [
    "def preprocess(filepath):\n",
    "    X_raw, y_train = read_tsv(filepath)\n",
    "    remove_URL(X_raw)\n",
    "#     remove_hash(X_raw)\n",
    "#     remove_metion(X_raw)\n",
    "#     remove_unicode(X_raw)\n",
    "    X_raw = [ remove_punctuation(text) for text in X_raw]\n",
    "\n",
    "    return X_raw, y_train"
   ]
  },
  {
   "cell_type": "markdown",
   "metadata": {
    "colab_type": "text",
    "id": "XP0HrgZvqbSN"
   },
   "source": [
    "# Select most common words from test data"
   ]
  },
  {
   "cell_type": "code",
   "execution_count": null,
   "metadata": {
    "colab": {},
    "colab_type": "code",
    "id": "ACDZ4O6fqhyk"
   },
   "outputs": [],
   "source": []
  },
  {
   "cell_type": "markdown",
   "metadata": {
    "colab_type": "text",
    "id": "T9hm_iL4iJ7_"
   },
   "source": [
    "# Prediction "
   ]
  },
  {
   "cell_type": "code",
   "execution_count": 321,
   "metadata": {
    "ExecuteTime": {
     "end_time": "2019-05-26T00:47:59.435865Z",
     "start_time": "2019-05-26T00:47:59.415830Z"
    },
    "colab": {},
    "colab_type": "code",
    "id": "Wk-OLpDUiJ7_"
   },
   "outputs": [],
   "source": [
    "vectoriser = CountVectorizer(stop_words='english',\\\n",
    "                             min_df = 1\n",
    "                            )"
   ]
  },
  {
   "cell_type": "code",
   "execution_count": 322,
   "metadata": {
    "ExecuteTime": {
     "end_time": "2019-05-26T00:48:01.139991Z",
     "start_time": "2019-05-26T00:48:00.039850Z"
    },
    "colab": {},
    "colab_type": "code",
    "id": "BP_pZoJjogbb"
   },
   "outputs": [],
   "source": [
    "X_text, y_train = preprocess_2(train_raw_filepath, dev_raw_filepath)"
   ]
  },
  {
   "cell_type": "code",
   "execution_count": 323,
   "metadata": {
    "ExecuteTime": {
     "end_time": "2019-05-26T00:48:01.149893Z",
     "start_time": "2019-05-26T00:48:01.143900Z"
    },
    "colab": {},
    "colab_type": "code",
    "id": "CChWyKX5xBnx"
   },
   "outputs": [
    {
     "data": {
      "text/plain": [
       "140680"
      ]
     },
     "execution_count": 323,
     "metadata": {},
     "output_type": "execute_result"
    }
   ],
   "source": [
    "len(X_text)"
   ]
  },
  {
   "cell_type": "code",
   "execution_count": 324,
   "metadata": {
    "ExecuteTime": {
     "end_time": "2019-05-26T00:48:04.468015Z",
     "start_time": "2019-05-26T00:48:01.153873Z"
    }
   },
   "outputs": [],
   "source": [
    "X_train = vectoriser.fit_transform(X_text)"
   ]
  },
  {
   "cell_type": "code",
   "execution_count": 329,
   "metadata": {
    "ExecuteTime": {
     "end_time": "2019-05-26T00:51:27.467982Z",
     "start_time": "2019-05-26T00:51:27.462565Z"
    },
    "colab": {},
    "colab_type": "code",
    "id": "P9fto61hwheN"
   },
   "outputs": [
    {
     "data": {
      "text/plain": [
       "(140680, 200424)"
      ]
     },
     "execution_count": 329,
     "metadata": {},
     "output_type": "execute_result"
    }
   ],
   "source": [
    "X_train.shape"
   ]
  },
  {
   "cell_type": "code",
   "execution_count": 326,
   "metadata": {
    "ExecuteTime": {
     "end_time": "2019-05-26T00:49:11.165633Z",
     "start_time": "2019-05-26T00:49:11.161605Z"
    }
   },
   "outputs": [],
   "source": [
    "from sklearn.ensemble import VotingClassifier"
   ]
  },
  {
   "cell_type": "code",
   "execution_count": 345,
   "metadata": {
    "ExecuteTime": {
     "end_time": "2019-05-26T00:55:34.385243Z",
     "start_time": "2019-05-26T00:55:34.377398Z"
    }
   },
   "outputs": [],
   "source": [
    "vs = VotingClassifier(estimators=[('MNB', MultinomialNB()), ('BNB', BernoulliNB()),  ('BNB2', BernoulliNB())], voting='hard')"
   ]
  },
  {
   "cell_type": "code",
   "execution_count": 346,
   "metadata": {
    "ExecuteTime": {
     "end_time": "2019-05-26T00:55:35.339430Z",
     "start_time": "2019-05-26T00:55:34.899332Z"
    }
   },
   "outputs": [],
   "source": [
    "vs = vs.fit(X_train, y_train)"
   ]
  },
  {
   "cell_type": "code",
   "execution_count": null,
   "metadata": {},
   "outputs": [],
   "source": [
    "vs.predict(X)"
   ]
  },
  {
   "cell_type": "code",
   "execution_count": null,
   "metadata": {},
   "outputs": [],
   "source": []
  },
  {
   "cell_type": "code",
   "execution_count": null,
   "metadata": {},
   "outputs": [],
   "source": []
  },
  {
   "cell_type": "code",
   "execution_count": 220,
   "metadata": {
    "ExecuteTime": {
     "end_time": "2019-05-26T00:34:59.889419Z",
     "start_time": "2019-05-26T00:34:59.885416Z"
    }
   },
   "outputs": [],
   "source": [
    "BNB = BernoulliNB()"
   ]
  },
  {
   "cell_type": "code",
   "execution_count": 221,
   "metadata": {
    "ExecuteTime": {
     "end_time": "2019-05-26T00:35:02.003487Z",
     "start_time": "2019-05-26T00:35:01.730023Z"
    }
   },
   "outputs": [
    {
     "data": {
      "text/plain": [
       "BernoulliNB(alpha=1.0, binarize=0.0, class_prior=None, fit_prior=True)"
      ]
     },
     "execution_count": 221,
     "metadata": {},
     "output_type": "execute_result"
    }
   ],
   "source": [
    "BNB.fit(X_train, y_train)"
   ]
  },
  {
   "cell_type": "code",
   "execution_count": 79,
   "metadata": {
    "ExecuteTime": {
     "end_time": "2019-05-26T00:03:22.343141Z",
     "start_time": "2019-05-26T00:03:22.338153Z"
    },
    "colab": {},
    "colab_type": "code",
    "id": "v-OYkxiDoSiN"
   },
   "outputs": [],
   "source": [
    "MNB = MultinomialNB()"
   ]
  },
  {
   "cell_type": "code",
   "execution_count": 68,
   "metadata": {
    "ExecuteTime": {
     "end_time": "2019-05-25T18:00:08.581877Z",
     "start_time": "2019-05-25T18:00:08.577885Z"
    }
   },
   "outputs": [],
   "source": [
    "LR = LogisticRegression()"
   ]
  },
  {
   "cell_type": "code",
   "execution_count": 80,
   "metadata": {
    "ExecuteTime": {
     "end_time": "2019-05-26T00:03:24.600105Z",
     "start_time": "2019-05-26T00:03:24.329829Z"
    },
    "colab": {},
    "colab_type": "code",
    "id": "9JBtoKjsoU6q"
   },
   "outputs": [
    {
     "data": {
      "text/plain": [
       "MultinomialNB(alpha=1.0, class_prior=None, fit_prior=True)"
      ]
     },
     "execution_count": 80,
     "metadata": {},
     "output_type": "execute_result"
    }
   ],
   "source": [
    "MNB.fit(X_train, y_train)"
   ]
  },
  {
   "cell_type": "code",
   "execution_count": 69,
   "metadata": {
    "ExecuteTime": {
     "end_time": "2019-05-25T18:01:39.182208Z",
     "start_time": "2019-05-25T18:00:11.030601Z"
    }
   },
   "outputs": [
    {
     "name": "stderr",
     "output_type": "stream",
     "text": [
      "C:\\Users\\91260\\AppData\\Local\\Programs\\Python\\Python36-32\\lib\\site-packages\\sklearn\\linear_model\\logistic.py:432: FutureWarning: Default solver will be changed to 'lbfgs' in 0.22. Specify a solver to silence this warning.\n",
      "  FutureWarning)\n",
      "C:\\Users\\91260\\AppData\\Local\\Programs\\Python\\Python36-32\\lib\\site-packages\\sklearn\\linear_model\\logistic.py:469: FutureWarning: Default multi_class will be changed to 'auto' in 0.22. Specify the multi_class option to silence this warning.\n",
      "  \"this warning.\", FutureWarning)\n",
      "C:\\Users\\91260\\AppData\\Local\\Programs\\Python\\Python36-32\\lib\\site-packages\\sklearn\\svm\\base.py:929: ConvergenceWarning: Liblinear failed to converge, increase the number of iterations.\n",
      "  \"the number of iterations.\", ConvergenceWarning)\n"
     ]
    },
    {
     "data": {
      "text/plain": [
       "LogisticRegression(C=1.0, class_weight=None, dual=False, fit_intercept=True,\n",
       "                   intercept_scaling=1, l1_ratio=None, max_iter=100,\n",
       "                   multi_class='warn', n_jobs=None, penalty='l2',\n",
       "                   random_state=None, solver='warn', tol=0.0001, verbose=0,\n",
       "                   warm_start=False)"
      ]
     },
     "execution_count": 69,
     "metadata": {},
     "output_type": "execute_result"
    }
   ],
   "source": [
    "LR.fit(X_train, y_train)"
   ]
  },
  {
   "cell_type": "code",
   "execution_count": 60,
   "metadata": {
    "ExecuteTime": {
     "end_time": "2019-05-25T17:42:52.684285Z",
     "start_time": "2019-05-25T17:42:52.643393Z"
    }
   },
   "outputs": [],
   "source": [
    "from sklearn.ensemble import RandomForestClassifier\n",
    "\n",
    "rf = RandomForestClassifier()"
   ]
  },
  {
   "cell_type": "code",
   "execution_count": 61,
   "metadata": {
    "ExecuteTime": {
     "end_time": "2019-05-25T17:48:59.664620Z",
     "start_time": "2019-05-25T17:42:53.779359Z"
    }
   },
   "outputs": [
    {
     "name": "stderr",
     "output_type": "stream",
     "text": [
      "C:\\Users\\91260\\AppData\\Local\\Programs\\Python\\Python36-32\\lib\\site-packages\\sklearn\\ensemble\\forest.py:245: FutureWarning: The default value of n_estimators will change from 10 in version 0.20 to 100 in 0.22.\n",
      "  \"10 in version 0.20 to 100 in 0.22.\", FutureWarning)\n"
     ]
    },
    {
     "data": {
      "text/plain": [
       "RandomForestClassifier(bootstrap=True, class_weight=None, criterion='gini',\n",
       "                       max_depth=None, max_features='auto', max_leaf_nodes=None,\n",
       "                       min_impurity_decrease=0.0, min_impurity_split=None,\n",
       "                       min_samples_leaf=1, min_samples_split=2,\n",
       "                       min_weight_fraction_leaf=0.0, n_estimators=10,\n",
       "                       n_jobs=None, oob_score=False, random_state=None,\n",
       "                       verbose=0, warm_start=False)"
      ]
     },
     "execution_count": 61,
     "metadata": {},
     "output_type": "execute_result"
    }
   ],
   "source": [
    "rf.fit(X_train, y_train)"
   ]
  },
  {
   "cell_type": "code",
   "execution_count": 62,
   "metadata": {
    "ExecuteTime": {
     "end_time": "2019-05-25T17:48:59.689830Z",
     "start_time": "2019-05-25T17:48:59.667217Z"
    },
    "colab": {},
    "colab_type": "code",
    "id": "G7X2EAmXow9N"
   },
   "outputs": [],
   "source": [
    "def test_prediction_to_submit_file(test_lables, filepath):\n",
    "    with open(filepath, 'w',  newline='') as writeFile:\n",
    "        writer = csv.writer(writeFile)\n",
    "        writer.writerows([[\"Id\", \"Class\"]])\n",
    "        for i in list(range(len(test_lables))):\n",
    "            index = '3' + str(i+1)\n",
    "            writer.writerows([[index, test_lables[i]]])\n",
    "        writeFile.close()"
   ]
  },
  {
   "cell_type": "code",
   "execution_count": 347,
   "metadata": {
    "ExecuteTime": {
     "end_time": "2019-05-26T00:55:46.876398Z",
     "start_time": "2019-05-26T00:55:46.115637Z"
    },
    "colab": {},
    "colab_type": "code",
    "id": "UW_vvqNpo1kS"
   },
   "outputs": [],
   "source": [
    "X_test_text, y_test = preprocess(test_raw_filepath)"
   ]
  },
  {
   "cell_type": "code",
   "execution_count": 349,
   "metadata": {
    "ExecuteTime": {
     "end_time": "2019-05-26T00:55:48.886159Z",
     "start_time": "2019-05-26T00:55:48.881158Z"
    }
   },
   "outputs": [
    {
     "data": {
      "text/plain": [
       "(108148, 200424)"
      ]
     },
     "execution_count": 349,
     "metadata": {},
     "output_type": "execute_result"
    }
   ],
   "source": [
    "X_test.shape"
   ]
  },
  {
   "cell_type": "code",
   "execution_count": 348,
   "metadata": {
    "ExecuteTime": {
     "end_time": "2019-05-26T00:55:48.745710Z",
     "start_time": "2019-05-26T00:55:46.913269Z"
    },
    "colab": {},
    "colab_type": "code",
    "id": "XpzJhLUYo7L4"
   },
   "outputs": [],
   "source": [
    "X_test = vectoriser.transform(X_test_text)"
   ]
  },
  {
   "cell_type": "code",
   "execution_count": 81,
   "metadata": {
    "ExecuteTime": {
     "end_time": "2019-05-26T00:03:30.088825Z",
     "start_time": "2019-05-26T00:03:30.042921Z"
    },
    "colab": {},
    "colab_type": "code",
    "id": "9qAKl6g7pAgS"
   },
   "outputs": [],
   "source": [
    "predict_labels = MNB.predict(X_test)"
   ]
  },
  {
   "cell_type": "code",
   "execution_count": 70,
   "metadata": {
    "ExecuteTime": {
     "end_time": "2019-05-25T18:01:39.232045Z",
     "start_time": "2019-05-25T18:01:39.186166Z"
    }
   },
   "outputs": [],
   "source": [
    "predict_labels = LR.predict(X_test)"
   ]
  },
  {
   "cell_type": "code",
   "execution_count": 65,
   "metadata": {
    "ExecuteTime": {
     "end_time": "2019-05-25T17:49:13.470087Z",
     "start_time": "2019-05-25T17:49:02.100703Z"
    }
   },
   "outputs": [],
   "source": [
    "predict_labels = rf.predict(X_test)"
   ]
  },
  {
   "cell_type": "code",
   "execution_count": 144,
   "metadata": {
    "ExecuteTime": {
     "end_time": "2019-05-26T00:21:19.149169Z",
     "start_time": "2019-05-26T00:21:19.102090Z"
    }
   },
   "outputs": [],
   "source": [
    "predict_labels = BNB.predict(X_test)"
   ]
  },
  {
   "cell_type": "code",
   "execution_count": 350,
   "metadata": {
    "ExecuteTime": {
     "end_time": "2019-05-26T00:55:54.214562Z",
     "start_time": "2019-05-26T00:55:53.265753Z"
    }
   },
   "outputs": [],
   "source": [
    "predict_labels = vs.predict(X_test)"
   ]
  },
  {
   "cell_type": "code",
   "execution_count": 351,
   "metadata": {
    "ExecuteTime": {
     "end_time": "2019-05-26T00:55:54.222459Z",
     "start_time": "2019-05-26T00:55:54.218589Z"
    },
    "colab": {},
    "colab_type": "code",
    "id": "s0QUJPbZpH-e"
   },
   "outputs": [],
   "source": [
    "filepath = \"predictLabel20424.voting.csv\""
   ]
  },
  {
   "cell_type": "code",
   "execution_count": 352,
   "metadata": {
    "ExecuteTime": {
     "end_time": "2019-05-26T00:55:54.525610Z",
     "start_time": "2019-05-26T00:55:54.226995Z"
    },
    "colab": {},
    "colab_type": "code",
    "id": "25f1hfrEpFdY"
   },
   "outputs": [],
   "source": [
    "test_prediction_to_submit_file(predict_labels, filepath)"
   ]
  },
  {
   "cell_type": "code",
   "execution_count": 0,
   "metadata": {
    "colab": {},
    "colab_type": "code",
    "id": "zgA9tP3lpKpP"
   },
   "outputs": [],
   "source": []
  }
 ],
 "metadata": {
  "colab": {
   "collapsed_sections": [],
   "name": "last chance.ipynb",
   "provenance": [],
   "toc_visible": true,
   "version": "0.3.2"
  },
  "kernelspec": {
   "display_name": "Python 3",
   "language": "python",
   "name": "python3"
  },
  "language_info": {
   "codemirror_mode": {
    "name": "ipython",
    "version": 3
   },
   "file_extension": ".py",
   "mimetype": "text/x-python",
   "name": "python",
   "nbconvert_exporter": "python",
   "pygments_lexer": "ipython3",
   "version": "3.6.5"
  },
  "toc": {
   "base_numbering": 1,
   "nav_menu": {},
   "number_sections": true,
   "sideBar": true,
   "skip_h1_title": false,
   "title_cell": "Table of Contents",
   "title_sidebar": "Contents",
   "toc_cell": false,
   "toc_position": {},
   "toc_section_display": true,
   "toc_window_display": true
  }
 },
 "nbformat": 4,
 "nbformat_minor": 1
}
